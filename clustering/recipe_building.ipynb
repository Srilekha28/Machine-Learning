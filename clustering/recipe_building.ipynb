{
 "cells": [
  {
   "cell_type": "code",
   "execution_count": 1,
   "id": "82ca12a1",
   "metadata": {},
   "outputs": [],
   "source": [
    "import numpy as np\n",
    "import pandas as pd\n",
    "import matplotlib.pyplot as plt\n",
    "%matplotlib inline\n",
    "import seaborn as sns\n",
    "from scipy.spatial.distance import pdist, squareform\n",
    "from sklearn.manifold import MDS, TSNE\n",
    "\n",
    "from bokeh.plotting import figure, output_file, show, ColumnDataSource\n",
    "from bokeh.models import HoverTool\n",
    "import warnings\n",
    "warnings.filterwarnings('ignore')"
   ]
  },
  {
   "cell_type": "code",
   "execution_count": 2,
   "id": "2b84dd02",
   "metadata": {},
   "outputs": [],
   "source": [
    "#take some regional cuisines, tsne clustering, and plotting\n",
    "def tsne_cluster_cuisine(df,sublist):\n",
    "    lenlist=[0]\n",
    "    df_sub = df[df['cuisine']==sublist[0]]\n",
    "    lenlist.append(df_sub.shape[0])\n",
    "    for cuisine in sublist[1:]:\n",
    "        temp = df[df['cuisine']==cuisine]\n",
    "        df_sub = pd.concat([df_sub, temp],axis=0,ignore_index=True)\n",
    "        lenlist.append(df_sub.shape[0])\n",
    "    df_X = df_sub.drop(['cuisine','recipeName'],axis=1)\n",
    "    print(df_X.shape, lenlist)\n",
    "\n",
    "    dist = squareform(pdist(df_X, metric='cosine'))\n",
    "    tsne = TSNE(metric='precomputed').fit_transform(dist)\n",
    "\n",
    "    palette = sns.color_palette(\"hls\", len(sublist))\n",
    "    plt.figure(figsize=(10,10))\n",
    "    for i,cuisine in enumerate(sublist):\n",
    "        plt.scatter(tsne[lenlist[i]:lenlist[i+1],0],\\\n",
    "        tsne[lenlist[i]:lenlist[i+1],1],c=palette[i],label=sublist[i])\n",
    "    plt.legend()"
   ]
  },
  {
   "cell_type": "code",
   "execution_count": 3,
   "id": "9300fbf5",
   "metadata": {},
   "outputs": [],
   "source": [
    "#interactive plot with boken; set up for four categories, with color palette; pass in df for either ingredient or flavor\n",
    "def plot_bokeh(df,sublist,filename):\n",
    "    lenlist=[0]\n",
    "    df_sub = df[df['cuisine']==sublist[0]]\n",
    "    lenlist.append(df_sub.shape[0])\n",
    "    for cuisine in sublist[1:]:\n",
    "        temp = df[df['cuisine']==cuisine]\n",
    "        df_sub = pd.concat([df_sub, temp],axis=0,ignore_index=True)\n",
    "        lenlist.append(df_sub.shape[0])\n",
    "    df_X = df_sub.drop(['cuisine','recipeName'],axis=1)\n",
    "    print(df_X.shape, lenlist)\n",
    "\n",
    "    dist = squareform(pdist(df_X, metric='cosine'))\n",
    "    tsne = TSNE(metric='precomputed').fit_transform(dist)\n",
    "    #cannot use seaborn palette for bokeh\n",
    "    palette =['red','green','blue','yellow']\n",
    "    colors =[]\n",
    "    for i in range(len(sublist)):\n",
    "        for j in range(lenlist[i+1]-lenlist[i]):\n",
    "            colors.append(palette[i])\n",
    "    #plot with boken\n",
    "    output_file(filename)\n",
    "    source = ColumnDataSource(\n",
    "            data=dict(x=tsne[:,0],y=tsne[:,1],\n",
    "                cuisine = df_sub['cuisine'],\n",
    "                recipe = df_sub['recipeName']))\n",
    "\n",
    "    hover = HoverTool(tooltips=[\n",
    "                (\"cuisine\", \"@cuisine\"),\n",
    "                (\"recipe\", \"@recipe\")])\n",
    "\n",
    "    p = figure(plot_width=1000, plot_height=1000, tools=[hover],\n",
    "               title=\"flavor clustering\")\n",
    "\n",
    "    p.circle('x', 'y', size=10, source=source,fill_color=colors)\n",
    "\n",
    "    show(p)"
   ]
  },
  {
   "cell_type": "code",
   "execution_count": null,
   "id": "b13b9301",
   "metadata": {},
   "outputs": [
    {
     "name": "stdout",
     "output_type": "stream",
     "text": [
      "(6242, 349) [0, 204, 644, 854, 1044, 1555, 1907, 2357, 2645, 2821, 2959, 3210, 3395, 3779, 4105, 4122, 4309, 4515, 4703, 5073, 5365, 5467, 5643, 5835, 6149, 6242]\n"
     ]
    }
   ],
   "source": [
    "if __name__ == '__main__':\n",
    "    yum_ingr = pd.read_pickle('recipe_data/yummly_ingr.pkl')\n",
    "    yum_ingrX = pd.read_pickle('recipe_data/yummly_ingrX.pkl')\n",
    "#     yum_tfidf = pd.read_pickle('data/yum_tfidf.pkl')\n",
    "\n",
    "    #select all cuisines and plot tsne clustering with ingredients\n",
    "    sublist = yum_ingr['cuisine'].unique()\n",
    "    df_ingr = yum_ingrX.copy()\n",
    "    df_ingr['cuisine'] = yum_ingr['cuisine']\n",
    "    df_ingr['recipeName'] = yum_ingr['recipeName']\n",
    "    tsne_cluster_cuisine(df_ingr,sublist)\n",
    "    \n",
    "    \n",
    "    #select four cuisines and plot tsne clustering with flavor\n",
    "#     sublist = ['Italian','French','Japanese','Indian']\n",
    "#     df_flavor = yum_tfidf.copy()\n",
    "#     df_flavor['cuisine'] = yum_ingr['cuisine']\n",
    "#     df_flavor['recipeName'] = yum_ingr['recipeName']\n",
    "#     tsne_cluster_cuisine(df_flavor,sublist)\n",
    "\n",
    "#     #select four cuisines and do interactive plotting with bokeh\n",
    "#     plot_bokeh(df_flavor,sublist, 'test1.html')\n",
    "#     plot_bokeh(df_ingr,sublist, 'test2.html')"
   ]
  },
  {
   "cell_type": "code",
   "execution_count": null,
   "id": "6fc41572",
   "metadata": {},
   "outputs": [],
   "source": []
  }
 ],
 "metadata": {
  "kernelspec": {
   "display_name": "Python 3 (ipykernel)",
   "language": "python",
   "name": "python3"
  },
  "language_info": {
   "codemirror_mode": {
    "name": "ipython",
    "version": 3
   },
   "file_extension": ".py",
   "mimetype": "text/x-python",
   "name": "python",
   "nbconvert_exporter": "python",
   "pygments_lexer": "ipython3",
   "version": "3.10.6"
  }
 },
 "nbformat": 4,
 "nbformat_minor": 5
}
