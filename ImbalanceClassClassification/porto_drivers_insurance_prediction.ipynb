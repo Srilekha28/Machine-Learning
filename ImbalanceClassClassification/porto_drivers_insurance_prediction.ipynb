{
 "cells": [
  {
   "cell_type": "code",
   "execution_count": 1,
   "id": "5fbecc10",
   "metadata": {},
   "outputs": [],
   "source": [
    "import numpy as np\n",
    "import matplotlib.pyplot as plt\n",
    "import pandas as pd\n",
    "import warnings\n",
    "warnings.filterwarnings('ignore')"
   ]
  },
  {
   "cell_type": "code",
   "execution_count": 2,
   "id": "896e69af",
   "metadata": {},
   "outputs": [],
   "source": [
    "data = pd.read_csv('../ML_Assignment3/porto_drivers_dataset/train.csv')"
   ]
  },
  {
   "cell_type": "markdown",
   "id": "29035cb1",
   "metadata": {},
   "source": [
    "# Data Exploration"
   ]
  },
  {
   "cell_type": "code",
   "execution_count": 3,
   "id": "b3684ec1",
   "metadata": {},
   "outputs": [
    {
     "name": "stdout",
     "output_type": "stream",
     "text": [
      "<class 'pandas.core.frame.DataFrame'>\n",
      "RangeIndex: 595212 entries, 0 to 595211\n",
      "Data columns (total 59 columns):\n",
      " #   Column          Non-Null Count   Dtype  \n",
      "---  ------          --------------   -----  \n",
      " 0   id              595212 non-null  int64  \n",
      " 1   target          595212 non-null  int64  \n",
      " 2   ps_ind_01       595212 non-null  int64  \n",
      " 3   ps_ind_02_cat   595212 non-null  int64  \n",
      " 4   ps_ind_03       595212 non-null  int64  \n",
      " 5   ps_ind_04_cat   595212 non-null  int64  \n",
      " 6   ps_ind_05_cat   595212 non-null  int64  \n",
      " 7   ps_ind_06_bin   595212 non-null  int64  \n",
      " 8   ps_ind_07_bin   595212 non-null  int64  \n",
      " 9   ps_ind_08_bin   595212 non-null  int64  \n",
      " 10  ps_ind_09_bin   595212 non-null  int64  \n",
      " 11  ps_ind_10_bin   595212 non-null  int64  \n",
      " 12  ps_ind_11_bin   595212 non-null  int64  \n",
      " 13  ps_ind_12_bin   595212 non-null  int64  \n",
      " 14  ps_ind_13_bin   595212 non-null  int64  \n",
      " 15  ps_ind_14       595212 non-null  int64  \n",
      " 16  ps_ind_15       595212 non-null  int64  \n",
      " 17  ps_ind_16_bin   595212 non-null  int64  \n",
      " 18  ps_ind_17_bin   595212 non-null  int64  \n",
      " 19  ps_ind_18_bin   595212 non-null  int64  \n",
      " 20  ps_reg_01       595212 non-null  float64\n",
      " 21  ps_reg_02       595212 non-null  float64\n",
      " 22  ps_reg_03       595212 non-null  float64\n",
      " 23  ps_car_01_cat   595212 non-null  int64  \n",
      " 24  ps_car_02_cat   595212 non-null  int64  \n",
      " 25  ps_car_03_cat   595212 non-null  int64  \n",
      " 26  ps_car_04_cat   595212 non-null  int64  \n",
      " 27  ps_car_05_cat   595212 non-null  int64  \n",
      " 28  ps_car_06_cat   595212 non-null  int64  \n",
      " 29  ps_car_07_cat   595212 non-null  int64  \n",
      " 30  ps_car_08_cat   595212 non-null  int64  \n",
      " 31  ps_car_09_cat   595212 non-null  int64  \n",
      " 32  ps_car_10_cat   595212 non-null  int64  \n",
      " 33  ps_car_11_cat   595212 non-null  int64  \n",
      " 34  ps_car_11       595212 non-null  int64  \n",
      " 35  ps_car_12       595212 non-null  float64\n",
      " 36  ps_car_13       595212 non-null  float64\n",
      " 37  ps_car_14       595212 non-null  float64\n",
      " 38  ps_car_15       595212 non-null  float64\n",
      " 39  ps_calc_01      595212 non-null  float64\n",
      " 40  ps_calc_02      595212 non-null  float64\n",
      " 41  ps_calc_03      595212 non-null  float64\n",
      " 42  ps_calc_04      595212 non-null  int64  \n",
      " 43  ps_calc_05      595212 non-null  int64  \n",
      " 44  ps_calc_06      595212 non-null  int64  \n",
      " 45  ps_calc_07      595212 non-null  int64  \n",
      " 46  ps_calc_08      595212 non-null  int64  \n",
      " 47  ps_calc_09      595212 non-null  int64  \n",
      " 48  ps_calc_10      595212 non-null  int64  \n",
      " 49  ps_calc_11      595212 non-null  int64  \n",
      " 50  ps_calc_12      595212 non-null  int64  \n",
      " 51  ps_calc_13      595212 non-null  int64  \n",
      " 52  ps_calc_14      595212 non-null  int64  \n",
      " 53  ps_calc_15_bin  595212 non-null  int64  \n",
      " 54  ps_calc_16_bin  595212 non-null  int64  \n",
      " 55  ps_calc_17_bin  595212 non-null  int64  \n",
      " 56  ps_calc_18_bin  595212 non-null  int64  \n",
      " 57  ps_calc_19_bin  595212 non-null  int64  \n",
      " 58  ps_calc_20_bin  595212 non-null  int64  \n",
      "dtypes: float64(10), int64(49)\n",
      "memory usage: 267.9 MB\n"
     ]
    }
   ],
   "source": [
    "data.info()"
   ]
  },
  {
   "cell_type": "code",
   "execution_count": 4,
   "id": "70eaaa5d",
   "metadata": {},
   "outputs": [
    {
     "data": {
      "text/html": [
       "<div>\n",
       "<style scoped>\n",
       "    .dataframe tbody tr th:only-of-type {\n",
       "        vertical-align: middle;\n",
       "    }\n",
       "\n",
       "    .dataframe tbody tr th {\n",
       "        vertical-align: top;\n",
       "    }\n",
       "\n",
       "    .dataframe thead th {\n",
       "        text-align: right;\n",
       "    }\n",
       "</style>\n",
       "<table border=\"1\" class=\"dataframe\">\n",
       "  <thead>\n",
       "    <tr style=\"text-align: right;\">\n",
       "      <th></th>\n",
       "      <th>id</th>\n",
       "      <th>target</th>\n",
       "      <th>ps_ind_01</th>\n",
       "      <th>ps_ind_02_cat</th>\n",
       "      <th>ps_ind_03</th>\n",
       "      <th>ps_ind_04_cat</th>\n",
       "      <th>ps_ind_05_cat</th>\n",
       "      <th>ps_ind_06_bin</th>\n",
       "      <th>ps_ind_07_bin</th>\n",
       "      <th>ps_ind_08_bin</th>\n",
       "      <th>...</th>\n",
       "      <th>ps_calc_11</th>\n",
       "      <th>ps_calc_12</th>\n",
       "      <th>ps_calc_13</th>\n",
       "      <th>ps_calc_14</th>\n",
       "      <th>ps_calc_15_bin</th>\n",
       "      <th>ps_calc_16_bin</th>\n",
       "      <th>ps_calc_17_bin</th>\n",
       "      <th>ps_calc_18_bin</th>\n",
       "      <th>ps_calc_19_bin</th>\n",
       "      <th>ps_calc_20_bin</th>\n",
       "    </tr>\n",
       "  </thead>\n",
       "  <tbody>\n",
       "    <tr>\n",
       "      <th>count</th>\n",
       "      <td>5.952120e+05</td>\n",
       "      <td>595212.000000</td>\n",
       "      <td>595212.000000</td>\n",
       "      <td>595212.000000</td>\n",
       "      <td>595212.000000</td>\n",
       "      <td>595212.000000</td>\n",
       "      <td>595212.000000</td>\n",
       "      <td>595212.000000</td>\n",
       "      <td>595212.000000</td>\n",
       "      <td>595212.000000</td>\n",
       "      <td>...</td>\n",
       "      <td>595212.000000</td>\n",
       "      <td>595212.000000</td>\n",
       "      <td>595212.000000</td>\n",
       "      <td>595212.000000</td>\n",
       "      <td>595212.000000</td>\n",
       "      <td>595212.000000</td>\n",
       "      <td>595212.000000</td>\n",
       "      <td>595212.000000</td>\n",
       "      <td>595212.000000</td>\n",
       "      <td>595212.000000</td>\n",
       "    </tr>\n",
       "    <tr>\n",
       "      <th>mean</th>\n",
       "      <td>7.438036e+05</td>\n",
       "      <td>0.036448</td>\n",
       "      <td>1.900378</td>\n",
       "      <td>1.358943</td>\n",
       "      <td>4.423318</td>\n",
       "      <td>0.416794</td>\n",
       "      <td>0.405188</td>\n",
       "      <td>0.393742</td>\n",
       "      <td>0.257033</td>\n",
       "      <td>0.163921</td>\n",
       "      <td>...</td>\n",
       "      <td>5.441382</td>\n",
       "      <td>1.441918</td>\n",
       "      <td>2.872288</td>\n",
       "      <td>7.539026</td>\n",
       "      <td>0.122427</td>\n",
       "      <td>0.627840</td>\n",
       "      <td>0.554182</td>\n",
       "      <td>0.287182</td>\n",
       "      <td>0.349024</td>\n",
       "      <td>0.153318</td>\n",
       "    </tr>\n",
       "    <tr>\n",
       "      <th>std</th>\n",
       "      <td>4.293678e+05</td>\n",
       "      <td>0.187401</td>\n",
       "      <td>1.983789</td>\n",
       "      <td>0.664594</td>\n",
       "      <td>2.699902</td>\n",
       "      <td>0.493311</td>\n",
       "      <td>1.350642</td>\n",
       "      <td>0.488579</td>\n",
       "      <td>0.436998</td>\n",
       "      <td>0.370205</td>\n",
       "      <td>...</td>\n",
       "      <td>2.332871</td>\n",
       "      <td>1.202963</td>\n",
       "      <td>1.694887</td>\n",
       "      <td>2.746652</td>\n",
       "      <td>0.327779</td>\n",
       "      <td>0.483381</td>\n",
       "      <td>0.497056</td>\n",
       "      <td>0.452447</td>\n",
       "      <td>0.476662</td>\n",
       "      <td>0.360295</td>\n",
       "    </tr>\n",
       "    <tr>\n",
       "      <th>min</th>\n",
       "      <td>7.000000e+00</td>\n",
       "      <td>0.000000</td>\n",
       "      <td>0.000000</td>\n",
       "      <td>-1.000000</td>\n",
       "      <td>0.000000</td>\n",
       "      <td>-1.000000</td>\n",
       "      <td>-1.000000</td>\n",
       "      <td>0.000000</td>\n",
       "      <td>0.000000</td>\n",
       "      <td>0.000000</td>\n",
       "      <td>...</td>\n",
       "      <td>0.000000</td>\n",
       "      <td>0.000000</td>\n",
       "      <td>0.000000</td>\n",
       "      <td>0.000000</td>\n",
       "      <td>0.000000</td>\n",
       "      <td>0.000000</td>\n",
       "      <td>0.000000</td>\n",
       "      <td>0.000000</td>\n",
       "      <td>0.000000</td>\n",
       "      <td>0.000000</td>\n",
       "    </tr>\n",
       "    <tr>\n",
       "      <th>25%</th>\n",
       "      <td>3.719915e+05</td>\n",
       "      <td>0.000000</td>\n",
       "      <td>0.000000</td>\n",
       "      <td>1.000000</td>\n",
       "      <td>2.000000</td>\n",
       "      <td>0.000000</td>\n",
       "      <td>0.000000</td>\n",
       "      <td>0.000000</td>\n",
       "      <td>0.000000</td>\n",
       "      <td>0.000000</td>\n",
       "      <td>...</td>\n",
       "      <td>4.000000</td>\n",
       "      <td>1.000000</td>\n",
       "      <td>2.000000</td>\n",
       "      <td>6.000000</td>\n",
       "      <td>0.000000</td>\n",
       "      <td>0.000000</td>\n",
       "      <td>0.000000</td>\n",
       "      <td>0.000000</td>\n",
       "      <td>0.000000</td>\n",
       "      <td>0.000000</td>\n",
       "    </tr>\n",
       "    <tr>\n",
       "      <th>50%</th>\n",
       "      <td>7.435475e+05</td>\n",
       "      <td>0.000000</td>\n",
       "      <td>1.000000</td>\n",
       "      <td>1.000000</td>\n",
       "      <td>4.000000</td>\n",
       "      <td>0.000000</td>\n",
       "      <td>0.000000</td>\n",
       "      <td>0.000000</td>\n",
       "      <td>0.000000</td>\n",
       "      <td>0.000000</td>\n",
       "      <td>...</td>\n",
       "      <td>5.000000</td>\n",
       "      <td>1.000000</td>\n",
       "      <td>3.000000</td>\n",
       "      <td>7.000000</td>\n",
       "      <td>0.000000</td>\n",
       "      <td>1.000000</td>\n",
       "      <td>1.000000</td>\n",
       "      <td>0.000000</td>\n",
       "      <td>0.000000</td>\n",
       "      <td>0.000000</td>\n",
       "    </tr>\n",
       "    <tr>\n",
       "      <th>75%</th>\n",
       "      <td>1.115549e+06</td>\n",
       "      <td>0.000000</td>\n",
       "      <td>3.000000</td>\n",
       "      <td>2.000000</td>\n",
       "      <td>6.000000</td>\n",
       "      <td>1.000000</td>\n",
       "      <td>0.000000</td>\n",
       "      <td>1.000000</td>\n",
       "      <td>1.000000</td>\n",
       "      <td>0.000000</td>\n",
       "      <td>...</td>\n",
       "      <td>7.000000</td>\n",
       "      <td>2.000000</td>\n",
       "      <td>4.000000</td>\n",
       "      <td>9.000000</td>\n",
       "      <td>0.000000</td>\n",
       "      <td>1.000000</td>\n",
       "      <td>1.000000</td>\n",
       "      <td>1.000000</td>\n",
       "      <td>1.000000</td>\n",
       "      <td>0.000000</td>\n",
       "    </tr>\n",
       "    <tr>\n",
       "      <th>max</th>\n",
       "      <td>1.488027e+06</td>\n",
       "      <td>1.000000</td>\n",
       "      <td>7.000000</td>\n",
       "      <td>4.000000</td>\n",
       "      <td>11.000000</td>\n",
       "      <td>1.000000</td>\n",
       "      <td>6.000000</td>\n",
       "      <td>1.000000</td>\n",
       "      <td>1.000000</td>\n",
       "      <td>1.000000</td>\n",
       "      <td>...</td>\n",
       "      <td>19.000000</td>\n",
       "      <td>10.000000</td>\n",
       "      <td>13.000000</td>\n",
       "      <td>23.000000</td>\n",
       "      <td>1.000000</td>\n",
       "      <td>1.000000</td>\n",
       "      <td>1.000000</td>\n",
       "      <td>1.000000</td>\n",
       "      <td>1.000000</td>\n",
       "      <td>1.000000</td>\n",
       "    </tr>\n",
       "  </tbody>\n",
       "</table>\n",
       "<p>8 rows × 59 columns</p>\n",
       "</div>"
      ],
      "text/plain": [
       "                 id         target      ps_ind_01  ps_ind_02_cat  \\\n",
       "count  5.952120e+05  595212.000000  595212.000000  595212.000000   \n",
       "mean   7.438036e+05       0.036448       1.900378       1.358943   \n",
       "std    4.293678e+05       0.187401       1.983789       0.664594   \n",
       "min    7.000000e+00       0.000000       0.000000      -1.000000   \n",
       "25%    3.719915e+05       0.000000       0.000000       1.000000   \n",
       "50%    7.435475e+05       0.000000       1.000000       1.000000   \n",
       "75%    1.115549e+06       0.000000       3.000000       2.000000   \n",
       "max    1.488027e+06       1.000000       7.000000       4.000000   \n",
       "\n",
       "           ps_ind_03  ps_ind_04_cat  ps_ind_05_cat  ps_ind_06_bin  \\\n",
       "count  595212.000000  595212.000000  595212.000000  595212.000000   \n",
       "mean        4.423318       0.416794       0.405188       0.393742   \n",
       "std         2.699902       0.493311       1.350642       0.488579   \n",
       "min         0.000000      -1.000000      -1.000000       0.000000   \n",
       "25%         2.000000       0.000000       0.000000       0.000000   \n",
       "50%         4.000000       0.000000       0.000000       0.000000   \n",
       "75%         6.000000       1.000000       0.000000       1.000000   \n",
       "max        11.000000       1.000000       6.000000       1.000000   \n",
       "\n",
       "       ps_ind_07_bin  ps_ind_08_bin  ...     ps_calc_11     ps_calc_12  \\\n",
       "count  595212.000000  595212.000000  ...  595212.000000  595212.000000   \n",
       "mean        0.257033       0.163921  ...       5.441382       1.441918   \n",
       "std         0.436998       0.370205  ...       2.332871       1.202963   \n",
       "min         0.000000       0.000000  ...       0.000000       0.000000   \n",
       "25%         0.000000       0.000000  ...       4.000000       1.000000   \n",
       "50%         0.000000       0.000000  ...       5.000000       1.000000   \n",
       "75%         1.000000       0.000000  ...       7.000000       2.000000   \n",
       "max         1.000000       1.000000  ...      19.000000      10.000000   \n",
       "\n",
       "          ps_calc_13     ps_calc_14  ps_calc_15_bin  ps_calc_16_bin  \\\n",
       "count  595212.000000  595212.000000   595212.000000   595212.000000   \n",
       "mean        2.872288       7.539026        0.122427        0.627840   \n",
       "std         1.694887       2.746652        0.327779        0.483381   \n",
       "min         0.000000       0.000000        0.000000        0.000000   \n",
       "25%         2.000000       6.000000        0.000000        0.000000   \n",
       "50%         3.000000       7.000000        0.000000        1.000000   \n",
       "75%         4.000000       9.000000        0.000000        1.000000   \n",
       "max        13.000000      23.000000        1.000000        1.000000   \n",
       "\n",
       "       ps_calc_17_bin  ps_calc_18_bin  ps_calc_19_bin  ps_calc_20_bin  \n",
       "count   595212.000000   595212.000000   595212.000000   595212.000000  \n",
       "mean         0.554182        0.287182        0.349024        0.153318  \n",
       "std          0.497056        0.452447        0.476662        0.360295  \n",
       "min          0.000000        0.000000        0.000000        0.000000  \n",
       "25%          0.000000        0.000000        0.000000        0.000000  \n",
       "50%          1.000000        0.000000        0.000000        0.000000  \n",
       "75%          1.000000        1.000000        1.000000        0.000000  \n",
       "max          1.000000        1.000000        1.000000        1.000000  \n",
       "\n",
       "[8 rows x 59 columns]"
      ]
     },
     "execution_count": 4,
     "metadata": {},
     "output_type": "execute_result"
    }
   ],
   "source": [
    "data.describe()"
   ]
  },
  {
   "cell_type": "code",
   "execution_count": 5,
   "id": "62d63022",
   "metadata": {},
   "outputs": [
    {
     "data": {
      "text/plain": [
       "id                     0\n",
       "target                 0\n",
       "ps_ind_01              0\n",
       "ps_ind_02_cat        216\n",
       "ps_ind_03              0\n",
       "ps_ind_04_cat         83\n",
       "ps_ind_05_cat       5809\n",
       "ps_ind_06_bin          0\n",
       "ps_ind_07_bin          0\n",
       "ps_ind_08_bin          0\n",
       "ps_ind_09_bin          0\n",
       "ps_ind_10_bin          0\n",
       "ps_ind_11_bin          0\n",
       "ps_ind_12_bin          0\n",
       "ps_ind_13_bin          0\n",
       "ps_ind_14              0\n",
       "ps_ind_15              0\n",
       "ps_ind_16_bin          0\n",
       "ps_ind_17_bin          0\n",
       "ps_ind_18_bin          0\n",
       "ps_reg_01              0\n",
       "ps_reg_02              0\n",
       "ps_reg_03         107772\n",
       "ps_car_01_cat        107\n",
       "ps_car_02_cat          5\n",
       "ps_car_03_cat     411231\n",
       "ps_car_04_cat          0\n",
       "ps_car_05_cat     266551\n",
       "ps_car_06_cat          0\n",
       "ps_car_07_cat      11489\n",
       "ps_car_08_cat          0\n",
       "ps_car_09_cat        569\n",
       "ps_car_10_cat          0\n",
       "ps_car_11_cat          0\n",
       "ps_car_11              5\n",
       "ps_car_12              1\n",
       "ps_car_13              0\n",
       "ps_car_14          42620\n",
       "ps_car_15              0\n",
       "ps_calc_01             0\n",
       "ps_calc_02             0\n",
       "ps_calc_03             0\n",
       "ps_calc_04             0\n",
       "ps_calc_05             0\n",
       "ps_calc_06             0\n",
       "ps_calc_07             0\n",
       "ps_calc_08             0\n",
       "ps_calc_09             0\n",
       "ps_calc_10             0\n",
       "ps_calc_11             0\n",
       "ps_calc_12             0\n",
       "ps_calc_13             0\n",
       "ps_calc_14             0\n",
       "ps_calc_15_bin         0\n",
       "ps_calc_16_bin         0\n",
       "ps_calc_17_bin         0\n",
       "ps_calc_18_bin         0\n",
       "ps_calc_19_bin         0\n",
       "ps_calc_20_bin         0\n",
       "dtype: int64"
      ]
     },
     "execution_count": 5,
     "metadata": {},
     "output_type": "execute_result"
    }
   ],
   "source": [
    "data.lt(0).sum()"
   ]
  },
  {
   "cell_type": "code",
   "execution_count": 6,
   "id": "6851c13c",
   "metadata": {},
   "outputs": [],
   "source": [
    "data = data.drop(['ps_car_03_cat', 'ps_car_05_cat'], axis = 1)"
   ]
  },
  {
   "cell_type": "code",
   "execution_count": 7,
   "id": "22719737",
   "metadata": {},
   "outputs": [
    {
     "name": "stdout",
     "output_type": "stream",
     "text": [
      "<class 'pandas.core.frame.DataFrame'>\n",
      "RangeIndex: 595212 entries, 0 to 595211\n",
      "Data columns (total 57 columns):\n",
      " #   Column          Non-Null Count   Dtype  \n",
      "---  ------          --------------   -----  \n",
      " 0   id              595212 non-null  int64  \n",
      " 1   target          595212 non-null  int64  \n",
      " 2   ps_ind_01       595212 non-null  int64  \n",
      " 3   ps_ind_02_cat   595212 non-null  int64  \n",
      " 4   ps_ind_03       595212 non-null  int64  \n",
      " 5   ps_ind_04_cat   595212 non-null  int64  \n",
      " 6   ps_ind_05_cat   595212 non-null  int64  \n",
      " 7   ps_ind_06_bin   595212 non-null  int64  \n",
      " 8   ps_ind_07_bin   595212 non-null  int64  \n",
      " 9   ps_ind_08_bin   595212 non-null  int64  \n",
      " 10  ps_ind_09_bin   595212 non-null  int64  \n",
      " 11  ps_ind_10_bin   595212 non-null  int64  \n",
      " 12  ps_ind_11_bin   595212 non-null  int64  \n",
      " 13  ps_ind_12_bin   595212 non-null  int64  \n",
      " 14  ps_ind_13_bin   595212 non-null  int64  \n",
      " 15  ps_ind_14       595212 non-null  int64  \n",
      " 16  ps_ind_15       595212 non-null  int64  \n",
      " 17  ps_ind_16_bin   595212 non-null  int64  \n",
      " 18  ps_ind_17_bin   595212 non-null  int64  \n",
      " 19  ps_ind_18_bin   595212 non-null  int64  \n",
      " 20  ps_reg_01       595212 non-null  float64\n",
      " 21  ps_reg_02       595212 non-null  float64\n",
      " 22  ps_reg_03       595212 non-null  float64\n",
      " 23  ps_car_01_cat   595212 non-null  int64  \n",
      " 24  ps_car_02_cat   595212 non-null  int64  \n",
      " 25  ps_car_04_cat   595212 non-null  int64  \n",
      " 26  ps_car_06_cat   595212 non-null  int64  \n",
      " 27  ps_car_07_cat   595212 non-null  int64  \n",
      " 28  ps_car_08_cat   595212 non-null  int64  \n",
      " 29  ps_car_09_cat   595212 non-null  int64  \n",
      " 30  ps_car_10_cat   595212 non-null  int64  \n",
      " 31  ps_car_11_cat   595212 non-null  int64  \n",
      " 32  ps_car_11       595212 non-null  int64  \n",
      " 33  ps_car_12       595212 non-null  float64\n",
      " 34  ps_car_13       595212 non-null  float64\n",
      " 35  ps_car_14       595212 non-null  float64\n",
      " 36  ps_car_15       595212 non-null  float64\n",
      " 37  ps_calc_01      595212 non-null  float64\n",
      " 38  ps_calc_02      595212 non-null  float64\n",
      " 39  ps_calc_03      595212 non-null  float64\n",
      " 40  ps_calc_04      595212 non-null  int64  \n",
      " 41  ps_calc_05      595212 non-null  int64  \n",
      " 42  ps_calc_06      595212 non-null  int64  \n",
      " 43  ps_calc_07      595212 non-null  int64  \n",
      " 44  ps_calc_08      595212 non-null  int64  \n",
      " 45  ps_calc_09      595212 non-null  int64  \n",
      " 46  ps_calc_10      595212 non-null  int64  \n",
      " 47  ps_calc_11      595212 non-null  int64  \n",
      " 48  ps_calc_12      595212 non-null  int64  \n",
      " 49  ps_calc_13      595212 non-null  int64  \n",
      " 50  ps_calc_14      595212 non-null  int64  \n",
      " 51  ps_calc_15_bin  595212 non-null  int64  \n",
      " 52  ps_calc_16_bin  595212 non-null  int64  \n",
      " 53  ps_calc_17_bin  595212 non-null  int64  \n",
      " 54  ps_calc_18_bin  595212 non-null  int64  \n",
      " 55  ps_calc_19_bin  595212 non-null  int64  \n",
      " 56  ps_calc_20_bin  595212 non-null  int64  \n",
      "dtypes: float64(10), int64(47)\n",
      "memory usage: 258.8 MB\n"
     ]
    }
   ],
   "source": [
    "data.info()"
   ]
  },
  {
   "cell_type": "code",
   "execution_count": 8,
   "id": "46003cb7",
   "metadata": {},
   "outputs": [],
   "source": [
    "from sklearn.impute import SimpleImputer"
   ]
  },
  {
   "cell_type": "code",
   "execution_count": 9,
   "id": "115fcb42",
   "metadata": {},
   "outputs": [],
   "source": [
    "imputer = SimpleImputer(missing_values = -1, strategy = 'median')\n",
    "imputer.fit(data.iloc[:, 1:57])\n",
    "data.iloc[:, 1:57] = imputer.transform(data.iloc[:, 1:57])"
   ]
  },
  {
   "cell_type": "code",
   "execution_count": 10,
   "id": "65a57771",
   "metadata": {},
   "outputs": [
    {
     "data": {
      "text/plain": [
       "id                0\n",
       "target            0\n",
       "ps_ind_01         0\n",
       "ps_ind_02_cat     0\n",
       "ps_ind_03         0\n",
       "ps_ind_04_cat     0\n",
       "ps_ind_05_cat     0\n",
       "ps_ind_06_bin     0\n",
       "ps_ind_07_bin     0\n",
       "ps_ind_08_bin     0\n",
       "ps_ind_09_bin     0\n",
       "ps_ind_10_bin     0\n",
       "ps_ind_11_bin     0\n",
       "ps_ind_12_bin     0\n",
       "ps_ind_13_bin     0\n",
       "ps_ind_14         0\n",
       "ps_ind_15         0\n",
       "ps_ind_16_bin     0\n",
       "ps_ind_17_bin     0\n",
       "ps_ind_18_bin     0\n",
       "ps_reg_01         0\n",
       "ps_reg_02         0\n",
       "ps_reg_03         0\n",
       "ps_car_01_cat     0\n",
       "ps_car_02_cat     0\n",
       "ps_car_04_cat     0\n",
       "ps_car_06_cat     0\n",
       "ps_car_07_cat     0\n",
       "ps_car_08_cat     0\n",
       "ps_car_09_cat     0\n",
       "ps_car_10_cat     0\n",
       "ps_car_11_cat     0\n",
       "ps_car_11         0\n",
       "ps_car_12         0\n",
       "ps_car_13         0\n",
       "ps_car_14         0\n",
       "ps_car_15         0\n",
       "ps_calc_01        0\n",
       "ps_calc_02        0\n",
       "ps_calc_03        0\n",
       "ps_calc_04        0\n",
       "ps_calc_05        0\n",
       "ps_calc_06        0\n",
       "ps_calc_07        0\n",
       "ps_calc_08        0\n",
       "ps_calc_09        0\n",
       "ps_calc_10        0\n",
       "ps_calc_11        0\n",
       "ps_calc_12        0\n",
       "ps_calc_13        0\n",
       "ps_calc_14        0\n",
       "ps_calc_15_bin    0\n",
       "ps_calc_16_bin    0\n",
       "ps_calc_17_bin    0\n",
       "ps_calc_18_bin    0\n",
       "ps_calc_19_bin    0\n",
       "ps_calc_20_bin    0\n",
       "dtype: int64"
      ]
     },
     "execution_count": 10,
     "metadata": {},
     "output_type": "execute_result"
    }
   ],
   "source": [
    "data.lt(0).sum()"
   ]
  },
  {
   "cell_type": "code",
   "execution_count": 106,
   "id": "3f69905f",
   "metadata": {},
   "outputs": [
    {
     "name": "stdout",
     "output_type": "stream",
     "text": [
      "<class 'pandas.core.frame.DataFrame'>\n",
      "RangeIndex: 595212 entries, 0 to 595211\n",
      "Data columns (total 57 columns):\n",
      " #   Column          Non-Null Count   Dtype  \n",
      "---  ------          --------------   -----  \n",
      " 0   id              595212 non-null  int64  \n",
      " 1   target          595212 non-null  float64\n",
      " 2   ps_ind_01       595212 non-null  float64\n",
      " 3   ps_ind_02_cat   595212 non-null  float64\n",
      " 4   ps_ind_03       595212 non-null  float64\n",
      " 5   ps_ind_04_cat   595212 non-null  float64\n",
      " 6   ps_ind_05_cat   595212 non-null  float64\n",
      " 7   ps_ind_06_bin   595212 non-null  float64\n",
      " 8   ps_ind_07_bin   595212 non-null  float64\n",
      " 9   ps_ind_08_bin   595212 non-null  float64\n",
      " 10  ps_ind_09_bin   595212 non-null  float64\n",
      " 11  ps_ind_10_bin   595212 non-null  float64\n",
      " 12  ps_ind_11_bin   595212 non-null  float64\n",
      " 13  ps_ind_12_bin   595212 non-null  float64\n",
      " 14  ps_ind_13_bin   595212 non-null  float64\n",
      " 15  ps_ind_14       595212 non-null  float64\n",
      " 16  ps_ind_15       595212 non-null  float64\n",
      " 17  ps_ind_16_bin   595212 non-null  float64\n",
      " 18  ps_ind_17_bin   595212 non-null  float64\n",
      " 19  ps_ind_18_bin   595212 non-null  float64\n",
      " 20  ps_reg_01       595212 non-null  float64\n",
      " 21  ps_reg_02       595212 non-null  float64\n",
      " 22  ps_reg_03       595212 non-null  float64\n",
      " 23  ps_car_01_cat   595212 non-null  float64\n",
      " 24  ps_car_02_cat   595212 non-null  float64\n",
      " 25  ps_car_04_cat   595212 non-null  float64\n",
      " 26  ps_car_06_cat   595212 non-null  float64\n",
      " 27  ps_car_07_cat   595212 non-null  float64\n",
      " 28  ps_car_08_cat   595212 non-null  float64\n",
      " 29  ps_car_09_cat   595212 non-null  float64\n",
      " 30  ps_car_10_cat   595212 non-null  float64\n",
      " 31  ps_car_11_cat   595212 non-null  float64\n",
      " 32  ps_car_11       595212 non-null  float64\n",
      " 33  ps_car_12       595212 non-null  float64\n",
      " 34  ps_car_13       595212 non-null  float64\n",
      " 35  ps_car_14       595212 non-null  float64\n",
      " 36  ps_car_15       595212 non-null  float64\n",
      " 37  ps_calc_01      595212 non-null  float64\n",
      " 38  ps_calc_02      595212 non-null  float64\n",
      " 39  ps_calc_03      595212 non-null  float64\n",
      " 40  ps_calc_04      595212 non-null  float64\n",
      " 41  ps_calc_05      595212 non-null  float64\n",
      " 42  ps_calc_06      595212 non-null  float64\n",
      " 43  ps_calc_07      595212 non-null  float64\n",
      " 44  ps_calc_08      595212 non-null  float64\n",
      " 45  ps_calc_09      595212 non-null  float64\n",
      " 46  ps_calc_10      595212 non-null  float64\n",
      " 47  ps_calc_11      595212 non-null  float64\n",
      " 48  ps_calc_12      595212 non-null  float64\n",
      " 49  ps_calc_13      595212 non-null  float64\n",
      " 50  ps_calc_14      595212 non-null  float64\n",
      " 51  ps_calc_15_bin  595212 non-null  float64\n",
      " 52  ps_calc_16_bin  595212 non-null  float64\n",
      " 53  ps_calc_17_bin  595212 non-null  float64\n",
      " 54  ps_calc_18_bin  595212 non-null  float64\n",
      " 55  ps_calc_19_bin  595212 non-null  float64\n",
      " 56  ps_calc_20_bin  595212 non-null  float64\n",
      "dtypes: float64(56), int64(1)\n",
      "memory usage: 258.8 MB\n"
     ]
    }
   ],
   "source": [
    "data.info()"
   ]
  },
  {
   "cell_type": "code",
   "execution_count": 107,
   "id": "73d5912e",
   "metadata": {},
   "outputs": [
    {
     "name": "stdout",
     "output_type": "stream",
     "text": [
      "0.0    573518\n",
      "1.0     21694\n",
      "Name: target, dtype: int64\n"
     ]
    }
   ],
   "source": [
    "count_target = data['target'].value_counts()\n",
    "print(count_target)"
   ]
  },
  {
   "cell_type": "code",
   "execution_count": 108,
   "id": "80dbe7c9",
   "metadata": {},
   "outputs": [
    {
     "data": {
      "image/png": "[encoded data removed]",
      "text/plain": [
       "<Figure size 640x480 with 1 Axes>"
      ]
     },
     "metadata": {},
     "output_type": "display_data"
    }
   ],
   "source": [
    "count_target.plot(kind = 'bar' , title = 'count_target');"
   ]
  },
  {
   "cell_type": "code",
   "execution_count": 109,
   "id": "f085e7be",
   "metadata": {},
   "outputs": [],
   "source": [
    "# dropping the target variable\n",
    "data['Target'] = data['target']\n",
    "data = data.drop(['target'], axis = 1)"
   ]
  },
  {
   "cell_type": "markdown",
   "id": "4b073e19",
   "metadata": {},
   "source": [
    "# Model Building "
   ]
  },
  {
   "cell_type": "code",
   "execution_count": 110,
   "id": "0b1d5366",
   "metadata": {},
   "outputs": [],
   "source": [
    "from sklearn.linear_model import LogisticRegression\n",
    "from sklearn.naive_bayes import GaussianNB\n",
    "from sklearn.tree import DecisionTreeClassifier\n",
    "from xgboost import XGBClassifier\n",
    "from sklearn.ensemble import RandomForestClassifier\n",
    "from imblearn.ensemble import BalancedRandomForestClassifier\n",
    "from imblearn.ensemble import RUSBoostClassifier"
   ]
  },
  {
   "cell_type": "code",
   "execution_count": 111,
   "id": "7b250653",
   "metadata": {},
   "outputs": [],
   "source": [
    "# creating a list of models so that it will be easier for us to work on it\n",
    "models = []\n",
    "models.append(('Logistic Regression', LogisticRegression(solver='lbfgs', max_iter=1000)))\n"
   ]
  },
  {
   "cell_type": "code",
   "execution_count": 112,
   "id": "9e5cfed8",
   "metadata": {},
   "outputs": [],
   "source": [
    "models.append(('Naive Bayes', GaussianNB()))"
   ]
  },
  {
   "cell_type": "code",
   "execution_count": 113,
   "id": "4b27904c",
   "metadata": {},
   "outputs": [],
   "source": [
    "models.append(('Random Forest Classifier', RandomForestClassifier(n_estimators=100, bootstrap = True, max_features = 'sqrt')))"
   ]
  },
  {
   "cell_type": "code",
   "execution_count": 114,
   "id": "1fa440e7",
   "metadata": {},
   "outputs": [],
   "source": [
    "models.append(('Balanced RandomForest Classifier', BalancedRandomForestClassifier(max_depth = 2, random_state = 42)))"
   ]
  },
  {
   "cell_type": "code",
   "execution_count": 115,
   "id": "e8a3f5a8",
   "metadata": {},
   "outputs": [],
   "source": [
    "models.append(('ADABoost with Random Sampling', RUSBoostClassifier(random_state = 42)))"
   ]
  },
  {
   "cell_type": "code",
   "execution_count": 116,
   "id": "c62a4d27",
   "metadata": {},
   "outputs": [],
   "source": [
    "# calculating metrics without performing cross validation\n",
    "from sklearn import metrics\n",
    "from sklearn.model_selection import train_test_split"
   ]
  },
  {
   "cell_type": "code",
   "execution_count": 117,
   "id": "4d4ecfc7",
   "metadata": {},
   "outputs": [],
   "source": [
    "def ModelBuilding(models, X, Y):\n",
    "    test_validation = 0.3\n",
    "    random_no = 42\n",
    "    X_train, X_test , Y_train, Y_test = train_test_split(X,Y, test_size = test_validation, random_state = random_no)\n",
    "    for name, model in models:\n",
    "        curr_model = model\n",
    "        curr_model.fit(X_train, Y_train)\n",
    "        Y_prediction = curr_model.predict(X_test)\n",
    "        print(name)\n",
    "        print(\"F1 Score: \", metrics.f1_score(Y_test, Y_prediction))\n",
    "        print(\"Accuracy: \", metrics.accuracy_score(Y_test, Y_prediction))\n",
    "        print(\"Precision: \", metrics.precision_score(Y_test, Y_prediction))\n",
    "        print(\"Recall: \", metrics.recall_score(Y_test, Y_prediction))\n",
    "        Y_prediction_probability = curr_model.predict_proba(X_test)[::,1]\n",
    "        auc = metrics.roc_auc_score(Y_test, Y_prediction)\n",
    "        print(\"Area Under Curve: \" +str(auc) + '\\n')"
   ]
  },
  {
   "cell_type": "code",
   "execution_count": 118,
   "id": "6192ba68",
   "metadata": {},
   "outputs": [],
   "source": [
    "# splitting target and dependent variables\n",
    "X = data.iloc[:,:-1].values\n",
    "Y = data.iloc[:,-1].values"
   ]
  },
  {
   "cell_type": "markdown",
   "id": "629b1155",
   "metadata": {},
   "source": [
    "# No rebalancing techniques"
   ]
  },
  {
   "cell_type": "code",
   "execution_count": 119,
   "id": "627fb78f",
   "metadata": {},
   "outputs": [
    {
     "name": "stdout",
     "output_type": "stream",
     "text": [
      "Logistic Regression\n",
      "F1 Score:  0.0\n",
      "Accuracy:  0.9631224658945812\n",
      "Precision:  0.0\n",
      "Recall:  0.0\n",
      "Area Under Curve: 0.5\n",
      "\n",
      "Naive Bayes\n",
      "F1 Score:  0.0\n",
      "Accuracy:  0.9631224658945812\n",
      "Precision:  0.0\n",
      "Recall:  0.0\n",
      "Area Under Curve: 0.5\n",
      "\n",
      "Random Forest Classifier\n",
      "F1 Score:  0.0\n",
      "Accuracy:  0.9631224658945812\n",
      "Precision:  0.0\n",
      "Recall:  0.0\n",
      "Area Under Curve: 0.5\n",
      "\n",
      "Balanced RandomForest Classifier\n",
      "F1 Score:  0.0931659763612486\n",
      "Accuracy:  0.5978248695145718\n",
      "Precision:  0.05080777335518614\n",
      "Recall:  0.5602126044039484\n",
      "Area Under Curve: 0.5797388154739435\n",
      "\n",
      "ADABoost with Random Sampling\n",
      "F1 Score:  0.09847752853001855\n",
      "Accuracy:  0.6133375148406174\n",
      "Precision:  0.05387065899058585\n",
      "Recall:  0.5726651480637813\n",
      "Area Under Curve: 0.5937799949379314\n",
      "\n"
     ]
    }
   ],
   "source": [
    "ModelBuilding(models, X, Y)"
   ]
  },
  {
   "cell_type": "code",
   "execution_count": 120,
   "id": "9c9ac881",
   "metadata": {},
   "outputs": [],
   "source": [
    "# Class count\n",
    "count_target_0 , count_target_1 = data['Target'].value_counts()"
   ]
  },
  {
   "cell_type": "code",
   "execution_count": 121,
   "id": "17e91151",
   "metadata": {},
   "outputs": [],
   "source": [
    "# Divide by class\n",
    "data_target_0 = data[data['Target'] == 0]\n",
    "data_target_1 = data[data['Target'] == 1]"
   ]
  },
  {
   "cell_type": "markdown",
   "id": "1a1c3697",
   "metadata": {},
   "source": [
    "# Random UnderSampling"
   ]
  },
  {
   "cell_type": "code",
   "execution_count": 122,
   "id": "d85dd463",
   "metadata": {},
   "outputs": [
    {
     "name": "stdout",
     "output_type": "stream",
     "text": [
      "Ransom Under Sampling is: \n",
      "0.0    21694\n",
      "1.0    21694\n",
      "Name: Target, dtype: int64\n"
     ]
    }
   ],
   "source": [
    "data_target_0_under_sampling = data_target_0.sample(count_target_1)\n",
    "data_test_under_sampling = pd.concat([data_target_0_under_sampling, data_target_1], axis = 0)\n",
    "\n",
    "print('Ransom Under Sampling is: ')\n",
    "print(data_test_under_sampling.Target.value_counts())"
   ]
  },
  {
   "cell_type": "code",
   "execution_count": 123,
   "id": "e06a5608",
   "metadata": {},
   "outputs": [
    {
     "data": {
      "image/png": "[encoded data removed]",
      "text/plain": [
       "<Figure size 640x480 with 1 Axes>"
      ]
     },
     "metadata": {},
     "output_type": "display_data"
    }
   ],
   "source": [
    "data_test_under_sampling.Target.value_counts().plot(kind = 'bar', title = 'count_target');"
   ]
  },
  {
   "cell_type": "code",
   "execution_count": 124,
   "id": "38e4dc15",
   "metadata": {},
   "outputs": [],
   "source": [
    "X = data_test_under_sampling.iloc[:,:-1].values\n",
    "Y = data_test_under_sampling.iloc[:,-1].values"
   ]
  },
  {
   "cell_type": "code",
   "execution_count": 125,
   "id": "23e822f9",
   "metadata": {},
   "outputs": [
    {
     "name": "stdout",
     "output_type": "stream",
     "text": [
      "Logistic Regression\n",
      "F1 Score:  0.6654705761738774\n",
      "Accuracy:  0.49865560420987937\n",
      "Precision:  0.49865560420987937\n",
      "Recall:  1.0\n",
      "Area Under Curve: 0.5\n",
      "\n",
      "Naive Bayes\n",
      "F1 Score:  0.4282643237685765\n",
      "Accuracy:  0.5300760543904125\n",
      "Precision:  0.5444391634980988\n",
      "Recall:  0.3529502387921738\n",
      "Area Under Curve: 0.529601077103718\n",
      "\n",
      "Random Forest Classifier\n",
      "F1 Score:  0.5788190895510653\n",
      "Accuracy:  0.5884612429899362\n",
      "Precision:  0.5910404624277457\n",
      "Recall:  0.5670928978585734\n",
      "Area Under Curve: 0.5884039420337918\n",
      "\n",
      "Balanced RandomForest Classifier\n",
      "F1 Score:  0.5655717859736906\n",
      "Accuracy:  0.5864638549588999\n",
      "Precision:  0.5938983050847457\n",
      "Recall:  0.5398243722076722\n",
      "Area Under Curve: 0.5863387873909951\n",
      "\n",
      "ADABoost with Random Sampling\n",
      "F1 Score:  0.5846805838957778\n",
      "Accuracy:  0.5934547130675271\n",
      "Precision:  0.5959046552551591\n",
      "Recall:  0.5738715144045602\n",
      "Area Under Curve: 0.5934021991268894\n",
      "\n"
     ]
    }
   ],
   "source": [
    "ModelBuilding(models, X, Y)"
   ]
  },
  {
   "cell_type": "markdown",
   "id": "89f05b9e",
   "metadata": {},
   "source": [
    "# Random OverSampling"
   ]
  },
  {
   "cell_type": "code",
   "execution_count": 126,
   "id": "ea53c9d7",
   "metadata": {},
   "outputs": [
    {
     "name": "stdout",
     "output_type": "stream",
     "text": [
      "Random Over Sampling is: \n",
      "0.0    573518\n",
      "1.0    573518\n",
      "Name: Target, dtype: int64\n"
     ]
    }
   ],
   "source": [
    "data_target_1_over_sampling = data_target_1.sample(count_target_0, replace = True)\n",
    "data_test_over_sampling = pd.concat([data_target_0, data_target_1_over_sampling], axis = 0)\n",
    "\n",
    "print('Random Over Sampling is: ')\n",
    "print(data_test_over_sampling.Target.value_counts())"
   ]
  },
  {
   "cell_type": "code",
   "execution_count": 127,
   "id": "42dda90d",
   "metadata": {},
   "outputs": [
    {
     "data": {
      "image/png": "[encoded data removed]",
      "text/plain": [
       "<Figure size 640x480 with 1 Axes>"
      ]
     },
     "metadata": {},
     "output_type": "display_data"
    }
   ],
   "source": [
    "data_test_over_sampling.Target.value_counts().plot(kind = 'bar', title = 'count_target');"
   ]
  },
  {
   "cell_type": "code",
   "execution_count": 128,
   "id": "836c260e",
   "metadata": {},
   "outputs": [],
   "source": [
    "X = data_test_over_sampling.iloc[:,:-1].values\n",
    "Y = data_test_over_sampling.iloc[:,-1].values"
   ]
  },
  {
   "cell_type": "code",
   "execution_count": 129,
   "id": "3aa7be4a",
   "metadata": {},
   "outputs": [
    {
     "name": "stdout",
     "output_type": "stream",
     "text": [
      "Logistic Regression\n",
      "F1 Score:  0.6657503121292254\n",
      "Accuracy:  0.4989698091604163\n",
      "Precision:  0.4989698091604163\n",
      "Recall:  1.0\n",
      "Area Under Curve: 0.5\n",
      "\n",
      "Naive Bayes\n",
      "F1 Score:  0.4208424301871403\n",
      "Accuracy:  0.5212736587903322\n",
      "Precision:  0.530894640671291\n",
      "Recall:  0.34858271064233753\n",
      "Area Under Curve: 0.5209185811201363\n",
      "\n",
      "Random Forest Classifier\n",
      "F1 Score:  1.0\n",
      "Accuracy:  1.0\n",
      "Precision:  1.0\n",
      "Recall:  1.0\n",
      "Area Under Curve: 1.0\n",
      "\n",
      "Balanced RandomForest Classifier\n",
      "F1 Score:  0.5654485828766898\n",
      "Accuracy:  0.5798826541435758\n",
      "Precision:  0.584277550006212\n",
      "Recall:  0.54779529530987\n",
      "Area Under Curve: 0.5798166778735999\n",
      "\n",
      "ADABoost with Random Sampling\n",
      "F1 Score:  0.5856831289103174\n",
      "Accuracy:  0.5964470766700279\n",
      "Precision:  0.600428213127791\n",
      "Recall:  0.5716448943221064\n",
      "Area Under Curve: 0.5963960797809709\n",
      "\n"
     ]
    }
   ],
   "source": [
    "ModelBuilding(models, X, Y)"
   ]
  },
  {
   "cell_type": "code",
   "execution_count": 130,
   "id": "aeef04e1",
   "metadata": {},
   "outputs": [],
   "source": [
    "X = data.iloc[:,:-1].values\n",
    "Y = data.iloc[:,-1].values"
   ]
  },
  {
   "cell_type": "code",
   "execution_count": 131,
   "id": "39a5066a",
   "metadata": {},
   "outputs": [],
   "source": [
    "from sklearn.datasets import make_classification"
   ]
  },
  {
   "cell_type": "code",
   "execution_count": 132,
   "id": "113eba7d",
   "metadata": {},
   "outputs": [],
   "source": [
    "X_sample , Y_sample = make_classification(n_classes = 2, class_sep = 2, weights = [0.9, 0.1], n_informative = 3, n_redundant = 1, flip_y = 0, n_features = 20, n_clusters_per_class = 1, n_samples = 10000, random_state = 42)"
   ]
  },
  {
   "cell_type": "code",
   "execution_count": 133,
   "id": "613eb409",
   "metadata": {},
   "outputs": [
    {
     "data": {
      "image/png": "[encoded data removed]",
      "text/plain": [
       "<Figure size 640x480 with 1 Axes>"
      ]
     },
     "metadata": {},
     "output_type": "display_data"
    }
   ],
   "source": [
    "df = pd.DataFrame(X)\n",
    "df['Target'] = Y\n",
    "df.Target.value_counts().plot(kind = 'bar' , title = 'count_target');"
   ]
  },
  {
   "cell_type": "markdown",
   "id": "c929830b",
   "metadata": {},
   "source": [
    "# UnderSampling for Cluster Centroids"
   ]
  },
  {
   "cell_type": "code",
   "execution_count": 134,
   "id": "14d156d1",
   "metadata": {},
   "outputs": [],
   "source": [
    "from imblearn.under_sampling import ClusterCentroids"
   ]
  },
  {
   "cell_type": "code",
   "execution_count": 135,
   "id": "eb1bec77",
   "metadata": {},
   "outputs": [
    {
     "name": "stdout",
     "output_type": "stream",
     "text": [
      "Logistic Regression\n",
      "F1 Score:  1.0\n",
      "Accuracy:  1.0\n",
      "Precision:  1.0\n",
      "Recall:  1.0\n",
      "Area Under Curve: 1.0\n",
      "\n",
      "Naive Bayes\n",
      "F1 Score:  0.9932885906040269\n",
      "Accuracy:  0.9933333333333333\n",
      "Precision:  0.9932885906040269\n",
      "Recall:  0.9932885906040269\n",
      "Area Under Curve: 0.9933330370238675\n",
      "\n",
      "Random Forest Classifier\n",
      "F1 Score:  0.998324958123953\n",
      "Accuracy:  0.9983333333333333\n",
      "Precision:  0.9966555183946488\n",
      "Recall:  1.0\n",
      "Area Under Curve: 0.9983443708609271\n",
      "\n",
      "Balanced RandomForest Classifier\n",
      "F1 Score:  0.9883138564273789\n",
      "Accuracy:  0.9883333333333333\n",
      "Precision:  0.9833887043189369\n",
      "Recall:  0.9932885906040269\n",
      "Area Under Curve: 0.9883661496066491\n",
      "\n",
      "ADABoost with Random Sampling\n",
      "F1 Score:  1.0\n",
      "Accuracy:  1.0\n",
      "Precision:  1.0\n",
      "Recall:  1.0\n",
      "Area Under Curve: 1.0\n",
      "\n"
     ]
    }
   ],
   "source": [
    "clustercentroid = ClusterCentroids(random_state = 42)\n",
    "X_res , Y_res = clustercentroid.fit_resample(X_sample, Y_sample)\n",
    "ModelBuilding(models, X_res, Y_res)"
   ]
  },
  {
   "cell_type": "markdown",
   "id": "dc3b2cf7",
   "metadata": {},
   "source": [
    "# UnderSampling for Tomek Links"
   ]
  },
  {
   "cell_type": "code",
   "execution_count": 136,
   "id": "50d009d7",
   "metadata": {},
   "outputs": [
    {
     "name": "stdout",
     "output_type": "stream",
     "text": [
      "Logistic Regression\n",
      "F1 Score:  0.9983136593591906\n",
      "Accuracy:  0.9996665555185061\n",
      "Precision:  1.0\n",
      "Recall:  0.9966329966329966\n",
      "Area Under Curve: 0.9983164983164983\n",
      "\n",
      "Naive Bayes\n",
      "F1 Score:  0.9847198641765704\n",
      "Accuracy:  0.9969989996665555\n",
      "Precision:  0.9931506849315068\n",
      "Recall:  0.9764309764309764\n",
      "Area Under Curve: 0.9878453919904698\n",
      "\n",
      "Random Forest Classifier\n",
      "F1 Score:  0.9915110356536503\n",
      "Accuracy:  0.9983327775925308\n",
      "Precision:  1.0\n",
      "Recall:  0.9831649831649831\n",
      "Area Under Curve: 0.9915824915824916\n",
      "\n",
      "Balanced RandomForest Classifier\n",
      "F1 Score:  0.9065420560747663\n",
      "Accuracy:  0.9799933311103701\n",
      "Precision:  0.8434782608695652\n",
      "Recall:  0.9797979797979798\n",
      "Area Under Curve: 0.9799063918234902\n",
      "\n",
      "ADABoost with Random Sampling\n",
      "F1 Score:  0.9815126050420168\n",
      "Accuracy:  0.9963321107035679\n",
      "Precision:  0.9798657718120806\n",
      "Recall:  0.9831649831649831\n",
      "Area Under Curve: 0.9904722029074361\n",
      "\n"
     ]
    }
   ],
   "source": [
    "from imblearn.under_sampling import TomekLinks\n",
    "tomekLink = TomekLinks()\n",
    "X_tomek , Y_tomek = tomekLink.fit_resample(X_sample, Y_sample)\n",
    "ModelBuilding(models, X_tomek, Y_tomek)"
   ]
  },
  {
   "cell_type": "markdown",
   "id": "7254b907",
   "metadata": {},
   "source": [
    "# OverSampling for SMOTE "
   ]
  },
  {
   "cell_type": "code",
   "execution_count": 137,
   "id": "16e3712f",
   "metadata": {},
   "outputs": [
    {
     "name": "stdout",
     "output_type": "stream",
     "text": [
      "Logistic Regression\n",
      "F1 Score:  0.5806093375476752\n",
      "Accuracy:  0.5149239634885255\n",
      "Precision:  0.5109108515991527\n",
      "Recall:  0.6723284163975445\n",
      "Area Under Curve: 0.5151071768036395\n",
      "\n",
      "Naive Bayes\n",
      "F1 Score:  0.6558330211399518\n",
      "Accuracy:  0.5327990096218953\n",
      "Precision:  0.5187726487621499\n",
      "Recall:  0.8913211719181868\n",
      "Area Under Curve: 0.5332163169641092\n",
      "\n",
      "Random Forest Classifier\n",
      "F1 Score:  0.980412747287953\n",
      "Accuracy:  0.980811424220673\n",
      "Precision:  1.0\n",
      "Recall:  0.9615780745395828\n",
      "Area Under Curve: 0.9807890372697914\n",
      "\n",
      "Balanced RandomForest Classifier\n",
      "F1 Score:  0.8540848887155679\n",
      "Accuracy:  0.8510335327844795\n",
      "Precision:  0.836006285803446\n",
      "Recall:  0.8729626720200169\n",
      "Area Under Curve: 0.8510590575407534\n",
      "\n",
      "ADABoost with Random Sampling\n",
      "F1 Score:  0.972516058453068\n",
      "Accuracy:  0.9732789710296968\n",
      "Precision:  0.9998647851312813\n",
      "Recall:  0.9466236071106456\n",
      "Area Under Curve: 0.9732479451120756\n",
      "\n"
     ]
    }
   ],
   "source": [
    "from imblearn.over_sampling import SMOTE\n",
    "smote = SMOTE()\n",
    "X_smote , Y_smote = smote.fit_resample(X, Y)\n",
    "ModelBuilding(models, X_smote, Y_smote)"
   ]
  },
  {
   "cell_type": "markdown",
   "id": "c3f87ad2",
   "metadata": {},
   "source": [
    "# OverSampling for ADASYN"
   ]
  },
  {
   "cell_type": "code",
   "execution_count": 138,
   "id": "b7b43815",
   "metadata": {},
   "outputs": [
    {
     "name": "stdout",
     "output_type": "stream",
     "text": [
      "Logistic Regression\n",
      "F1 Score:  0.0\n",
      "Accuracy:  0.5031689718609338\n",
      "Precision:  0.0\n",
      "Recall:  0.0\n",
      "Area Under Curve: 0.5\n",
      "\n",
      "Naive Bayes\n",
      "F1 Score:  0.6505102040816327\n",
      "Accuracy:  0.5311910479104089\n",
      "Precision:  0.5165893845946068\n",
      "Recall:  0.8781663733068034\n",
      "Area Under Curve: 0.5333763079405591\n",
      "\n",
      "Random Forest Classifier\n",
      "F1 Score:  0.9801855670722006\n",
      "Accuracy:  0.9806936933511549\n",
      "Precision:  1.0\n",
      "Recall:  0.961141101188549\n",
      "Area Under Curve: 0.9805705505942746\n",
      "\n",
      "Balanced RandomForest Classifier\n",
      "F1 Score:  0.855189905449861\n",
      "Accuracy:  0.8527151961486829\n",
      "Precision:  0.8359352600896105\n",
      "Recall:  0.8753524733474225\n",
      "Area Under Curve: 0.8528577663357626\n",
      "\n",
      "ADABoost with Random Sampling\n",
      "F1 Score:  0.9733001132502831\n",
      "Accuracy:  0.9741422425265203\n",
      "Precision:  0.9993054435858956\n",
      "Recall:  0.948613948231305\n",
      "Area Under Curve: 0.9739814646351889\n",
      "\n"
     ]
    }
   ],
   "source": [
    "from imblearn.over_sampling import ADASYN\n",
    "adasyn = ADASYN()\n",
    "X_adasyn , Y_adasyn = adasyn.fit_resample(X, Y)\n",
    "ModelBuilding(models, X_adasyn, Y_adasyn)"
   ]
  },
  {
   "cell_type": "markdown",
   "id": "4db65581",
   "metadata": {},
   "source": [
    "# OverSampling with UnderSampling for SMOTETomek"
   ]
  },
  {
   "cell_type": "code",
   "execution_count": 139,
   "id": "b8d174a6",
   "metadata": {},
   "outputs": [
    {
     "name": "stdout",
     "output_type": "stream",
     "text": [
      "Logistic Regression\n",
      "F1 Score:  0.7645735035115566\n",
      "Accuracy:  0.618874134304848\n",
      "Precision:  0.618874134304848\n",
      "Recall:  1.0\n",
      "Area Under Curve: 0.5\n",
      "\n",
      "Naive Bayes\n",
      "F1 Score:  0.7666298933939182\n",
      "Accuracy:  0.6239693057718877\n",
      "Precision:  0.6223476418063967\n",
      "Recall:  0.9980021897706428\n",
      "Area Under Curve: 0.50730749063688\n",
      "\n",
      "Random Forest Classifier\n",
      "F1 Score:  0.9774968467960904\n",
      "Accuracy:  0.9727597525453857\n",
      "Precision:  1.0\n",
      "Recall:  0.9559841881496438\n",
      "Area Under Curve: 0.9779920940748219\n",
      "\n",
      "Balanced RandomForest Classifier\n",
      "F1 Score:  0.8885023570042099\n",
      "Accuracy:  0.8637723628747679\n",
      "Precision:  0.900254690612936\n",
      "Recall:  0.8770529099776757\n",
      "Area Under Curve: 0.8596301261964112\n",
      "\n",
      "ADABoost with Random Sampling\n",
      "F1 Score:  0.968479111650805\n",
      "Accuracy:  0.9620810123463308\n",
      "Precision:  0.9973032421357118\n",
      "Recall:  0.941274332759822\n",
      "Area Under Curve: 0.9685706690351868\n",
      "\n"
     ]
    }
   ],
   "source": [
    "from imblearn.combine import SMOTEENN\n",
    "smote_tomek = SMOTEENN(random_state = 0)\n",
    "X_smote_tomek , Y_smote_tomek = smote_tomek.fit_resample(X, Y)\n",
    "ModelBuilding(models, X_smote_tomek, Y_smote_tomek)"
   ]
  }
 ],
 "metadata": {
  "kernelspec": {
   "display_name": "Python 3 (ipykernel)",
   "language": "python",
   "name": "python3"
  },
  "language_info": {
   "codemirror_mode": {
    "name": "ipython",
    "version": 3
   },
   "file_extension": ".py",
   "mimetype": "text/x-python",
   "name": "python",
   "nbconvert_exporter": "python",
   "pygments_lexer": "ipython3",
   "version": "3.10.6"
  }
 },
 "nbformat": 4,
 "nbformat_minor": 5
}
